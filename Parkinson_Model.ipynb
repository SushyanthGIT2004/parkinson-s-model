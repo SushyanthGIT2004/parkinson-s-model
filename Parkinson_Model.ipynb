{
 "cells": [
  {
   "cell_type": "code",
   "execution_count": 2,
   "id": "105b26ee-a00a-4562-a4ae-a572f5cbad53",
   "metadata": {},
   "outputs": [],
   "source": [
    "import numpy as np\n",
    "import pandas as pd\n",
    "import matplotlib.pyplot as plt\n",
    "import seaborn as sb\n",
    "\n",
    "from imblearn.over_sampling import RandomOverSampler\n",
    "from sklearn.model_selection import train_test_split\n",
    "from sklearn.preprocessing import LabelEncoder, MinMaxScaler\n",
    "from sklearn.feature_selection import SelectKBest , chi2\n",
    "from tqdm.notebook import tqdm\n",
    "from sklearn import metrics\n",
    "from sklearn.svm import SVC\n",
    "from xgboost import XGBClassifier\n",
    "from sklearn.linear_model import LogisticRegression\n",
    "from sklearn.metrics import ConfusionMatrixDisplay"
   ]
  },
  {
   "cell_type": "code",
   "execution_count": 3,
   "id": "e798ccd5-80c2-4812-97c9-33ae979a69e6",
   "metadata": {},
   "outputs": [],
   "source": [
    "import warnings\n",
    "warnings.filterwarnings('ignore')"
   ]
  },
  {
   "cell_type": "code",
   "execution_count": 5,
   "id": "471520a2-075a-4d3e-9d18-42f9df85bc58",
   "metadata": {},
   "outputs": [],
   "source": [
    "df = pd.read_csv('speech.csv')"
   ]
  },
  {
   "cell_type": "code",
   "execution_count": 6,
   "id": "6d8b5b44-03f6-4013-b8fd-8af863a48105",
   "metadata": {},
   "outputs": [
    {
     "data": {
      "text/plain": [
       "(756, 755)"
      ]
     },
     "execution_count": 6,
     "metadata": {},
     "output_type": "execute_result"
    }
   ],
   "source": [
    "df.shape"
   ]
  },
  {
   "cell_type": "code",
   "execution_count": 7,
   "id": "6f7586f4-95f6-4164-b35c-02d0f1a7386d",
   "metadata": {},
   "outputs": [
    {
     "name": "stdout",
     "output_type": "stream",
     "text": [
      "<class 'pandas.core.frame.DataFrame'>\n",
      "RangeIndex: 756 entries, 0 to 755\n",
      "Columns: 755 entries, id to class\n",
      "dtypes: float64(749), int64(6)\n",
      "memory usage: 4.4 MB\n"
     ]
    }
   ],
   "source": [
    "df.info()"
   ]
  },
  {
   "cell_type": "code",
   "execution_count": 8,
   "id": "6f3765cb-cdcc-4669-9d35-a4f61f9a5909",
   "metadata": {},
   "outputs": [
    {
     "data": {
      "text/plain": [
       "<bound method NDFrame.describe of       id  gender      PPE      DFA     RPDE  numPulses  numPeriodsPulses  \\\n",
       "0      0       1  0.85247  0.71826  0.57227        240               239   \n",
       "1      0       1  0.76686  0.69481  0.53966        234               233   \n",
       "2      0       1  0.85083  0.67604  0.58982        232               231   \n",
       "3      1       0  0.41121  0.79672  0.59257        178               177   \n",
       "4      1       0  0.32790  0.79782  0.53028        236               235   \n",
       "..   ...     ...      ...      ...      ...        ...               ...   \n",
       "751  250       0  0.80903  0.56355  0.28385        417               416   \n",
       "752  250       0  0.16084  0.56499  0.59194        415               413   \n",
       "753  251       0  0.88389  0.72335  0.46815        381               380   \n",
       "754  251       0  0.83782  0.74890  0.49823        340               339   \n",
       "755  251       0  0.81304  0.76471  0.46374        340               339   \n",
       "\n",
       "     meanPeriodPulses  stdDevPeriodPulses  locPctJitter  ...  \\\n",
       "0            0.008064            0.000087       0.00218  ...   \n",
       "1            0.008258            0.000073       0.00195  ...   \n",
       "2            0.008340            0.000060       0.00176  ...   \n",
       "3            0.010858            0.000183       0.00419  ...   \n",
       "4            0.008162            0.002669       0.00535  ...   \n",
       "..                ...                 ...           ...  ...   \n",
       "751          0.004627            0.000052       0.00064  ...   \n",
       "752          0.004550            0.000220       0.00143  ...   \n",
       "753          0.005069            0.000103       0.00076  ...   \n",
       "754          0.005679            0.000055       0.00092  ...   \n",
       "755          0.005676            0.000037       0.00078  ...   \n",
       "\n",
       "     tqwt_kurtosisValue_dec_28  tqwt_kurtosisValue_dec_29  \\\n",
       "0                       1.5620                     2.6445   \n",
       "1                       1.5589                     3.6107   \n",
       "2                       1.5643                     2.3308   \n",
       "3                       3.7805                     3.5664   \n",
       "4                       6.1727                     5.8416   \n",
       "..                         ...                        ...   \n",
       "751                     3.0706                     3.0190   \n",
       "752                     1.9704                     1.7451   \n",
       "753                    51.5607                    44.4641   \n",
       "754                    19.1607                    12.8312   \n",
       "755                    62.9927                    21.8152   \n",
       "\n",
       "     tqwt_kurtosisValue_dec_30  tqwt_kurtosisValue_dec_31  \\\n",
       "0                       3.8686                     4.2105   \n",
       "1                      23.5155                    14.1962   \n",
       "2                       9.4959                    10.7458   \n",
       "3                       5.2558                    14.0403   \n",
       "4                       6.0805                     5.7621   \n",
       "..                         ...                        ...   \n",
       "751                     3.1212                     2.4921   \n",
       "752                     1.8277                     2.4976   \n",
       "753                    26.1586                     6.3076   \n",
       "754                     8.9434                     2.2044   \n",
       "755                     9.2457                     4.8555   \n",
       "\n",
       "     tqwt_kurtosisValue_dec_32  tqwt_kurtosisValue_dec_33  \\\n",
       "0                       5.1221                     4.4625   \n",
       "1                      11.0261                     9.5082   \n",
       "2                      11.0177                     4.8066   \n",
       "3                       4.2235                     4.6857   \n",
       "4                       7.7817                    11.6891   \n",
       "..                         ...                        ...   \n",
       "751                     3.5844                     3.5400   \n",
       "752                     5.2981                     4.2616   \n",
       "753                     2.8601                     2.5361   \n",
       "754                     1.9496                     1.9664   \n",
       "755                     3.0551                     3.0415   \n",
       "\n",
       "     tqwt_kurtosisValue_dec_34  tqwt_kurtosisValue_dec_35  \\\n",
       "0                       2.6202                     3.0004   \n",
       "1                       6.5245                     6.3431   \n",
       "2                       2.9199                     3.1495   \n",
       "3                       4.8460                     6.2650   \n",
       "4                       8.2103                     5.0559   \n",
       "..                         ...                        ...   \n",
       "751                     3.3805                     3.2003   \n",
       "752                     6.3042                    10.9058   \n",
       "753                     3.5377                     3.3545   \n",
       "754                     2.6801                     2.8332   \n",
       "755                     4.0116                     2.6217   \n",
       "\n",
       "     tqwt_kurtosisValue_dec_36  class  \n",
       "0                      18.9405      1  \n",
       "1                      45.1780      1  \n",
       "2                       4.7666      1  \n",
       "3                       4.0603      1  \n",
       "4                       6.1164      1  \n",
       "..                         ...    ...  \n",
       "751                     6.8671      0  \n",
       "752                    28.4170      0  \n",
       "753                     5.0424      0  \n",
       "754                     3.7131      0  \n",
       "755                     3.1527      0  \n",
       "\n",
       "[756 rows x 755 columns]>"
      ]
     },
     "execution_count": 8,
     "metadata": {},
     "output_type": "execute_result"
    }
   ],
   "source": [
    "df.describe"
   ]
  },
  {
   "cell_type": "code",
   "execution_count": 9,
   "id": "44f29a22-2bac-4aec-a420-188ee4fa207e",
   "metadata": {},
   "outputs": [],
   "source": [
    "df = df.groupby('id').mean().reset_index()\n",
    "df.drop('id',axis=1, inplace=True)"
   ]
  },
  {
   "cell_type": "code",
   "execution_count": 11,
   "id": "47b0fdbf-7bfa-458c-b8cb-f2ae23a9833c",
   "metadata": {},
   "outputs": [
    {
     "data": {
      "text/plain": [
       "(252, 287)"
      ]
     },
     "execution_count": 11,
     "metadata": {},
     "output_type": "execute_result"
    }
   ],
   "source": [
    "columns = list(df.columns)\n",
    "for col in columns:\n",
    "    if col == 'class':\n",
    "        continue\n",
    "    filtered_columns = [col]\n",
    "    for col1 in df.columns:\n",
    "        if((col == col1) | (col == 'class')):\n",
    "            continue\n",
    "\n",
    "        val = df[col].corr(df[col1])\n",
    "\n",
    "        if val >0.7:\n",
    "\n",
    "            columns.remove(col1)\n",
    "            continue\n",
    "        else:\n",
    "            filtered_columns.append(col1)\n",
    "\n",
    "    df = df[filtered_columns]\n",
    "df.shape"
   ]
  },
  {
   "cell_type": "code",
   "execution_count": 13,
   "id": "71407733-8f8a-4523-86fc-7adf3d1a6be9",
   "metadata": {},
   "outputs": [
    {
     "data": {
      "text/plain": [
       "(252, 31)"
      ]
     },
     "execution_count": 13,
     "metadata": {},
     "output_type": "execute_result"
    }
   ],
   "source": [
    "X = df.drop('class', axis=1)\n",
    "X_norm = MinMaxScaler().fit_transform(X)\n",
    "selector = SelectKBest(chi2, k=30)\n",
    "selector.fit(X_norm, df['class'])\n",
    "filtered_columns = selector.get_support()\n",
    "filtered_data = X.loc[:, filtered_columns]\n",
    "filtered_data['class'] = df['class']\n",
    "df = filtered_data\n",
    "df.shape"
   ]
  },
  {
   "cell_type": "code",
   "execution_count": 14,
   "id": "4c7b8252-c953-49be-9f4e-24827cf9dbc3",
   "metadata": {},
   "outputs": [
    {
     "data": {
      "text/plain": [
       "<bound method NDFrame.describe of      gender       DFA          f1  VFER_mean  IMF_SNR_SEO  mean_MFCC_2nd_coef  \\\n",
       "0       1.0  0.696370  550.716984   0.000479    45.251033            2.868933   \n",
       "1       0.0  0.793993  832.920994   0.000253    82.136333            2.909100   \n",
       "2       1.0  0.619967  683.269240   0.001704    13.799367           -0.431677   \n",
       "3       0.0  0.626097  712.242460   0.003726     0.417453            0.497686   \n",
       "4       0.0  0.779397  504.376144   0.001358    39.001700            3.326100   \n",
       "..      ...       ...         ...        ...          ...                 ...   \n",
       "247     0.0  0.651830  705.192316   0.001110    28.754167            0.933697   \n",
       "248     1.0  0.688327  654.991006   0.000921    15.672333            1.496493   \n",
       "249     1.0  0.788800  443.565702   0.000107    76.918567            1.773467   \n",
       "250     0.0  0.569010  907.148124   0.008256     3.266500           -1.738833   \n",
       "251     0.0  0.745653  721.853906   0.000103    53.132900           -0.201133   \n",
       "\n",
       "     std_MFCC_8th_coef  tqwt_energy_dec_7  tqwt_energy_dec_12  \\\n",
       "0             0.185957           0.000136            0.000261   \n",
       "1             0.246833           0.000063            0.000697   \n",
       "2             0.233543           0.001275            0.005317   \n",
       "3             0.268717           0.000195            0.007340   \n",
       "4             0.290433           0.000037            0.003191   \n",
       "..                 ...                ...                 ...   \n",
       "247           0.351143           0.000279            0.007437   \n",
       "248           0.407100           0.000407            0.002867   \n",
       "249           0.215913           0.000410            0.000488   \n",
       "250           0.236770           0.003193            0.021886   \n",
       "251           0.225793           0.000593            0.017958   \n",
       "\n",
       "     tqwt_energy_dec_14  ...  tqwt_entropy_log_dec_26  tqwt_TKEO_mean_dec_13  \\\n",
       "0              0.011872  ...             -5150.383500               0.000090   \n",
       "1              0.024355  ...             -2457.847767               0.002794   \n",
       "2              0.022469  ...             -1515.401133               0.010129   \n",
       "3              0.149720  ...            -13673.090967               0.014066   \n",
       "4              0.054455  ...            -13461.300200               0.000253   \n",
       "..                  ...  ...                      ...                    ...   \n",
       "247            0.026298  ...             -4437.709100               0.004572   \n",
       "248            0.034037  ...             -3128.566300               0.005724   \n",
       "249            0.010683  ...             -1737.022500               0.001412   \n",
       "250            0.156000  ...            -10232.499233               0.066694   \n",
       "251            0.014814  ...             -3379.734733               0.012993   \n",
       "\n",
       "     tqwt_TKEO_mean_dec_32  tqwt_minValue_dec_12  tqwt_maxValue_dec_1  \\\n",
       "0                 0.000021             -0.050074             0.023362   \n",
       "1                 0.011373             -0.134677             0.092748   \n",
       "2                 0.004745             -0.153913             0.037454   \n",
       "3                 0.000026             -0.136643             0.028221   \n",
       "4                 0.000082             -0.023543             0.015097   \n",
       "..                     ...                   ...                  ...   \n",
       "247               0.000023             -0.099707             0.013951   \n",
       "248               0.039564             -0.091974             0.022423   \n",
       "249               0.002966             -0.132746             0.081714   \n",
       "250               0.000789             -0.355090             0.072059   \n",
       "251               0.016877             -0.229067             0.081266   \n",
       "\n",
       "     tqwt_kurtosisValue_dec_25  tqwt_kurtosisValue_dec_26  \\\n",
       "0                     2.437633                   1.591700   \n",
       "1                     1.831233                   1.881900   \n",
       "2                     1.577067                   1.590333   \n",
       "3                     4.138300                   5.676767   \n",
       "4                     3.384267                   3.614567   \n",
       "..                         ...                        ...   \n",
       "247                   1.541600                   1.552700   \n",
       "248                   1.993367                   1.852067   \n",
       "249                   1.598967                   1.635000   \n",
       "250                   2.268800                  11.502200   \n",
       "251                   1.637400                   1.871700   \n",
       "\n",
       "     tqwt_kurtosisValue_dec_28  tqwt_kurtosisValue_dec_34  class  \n",
       "0                     1.561733                   4.021533    1.0  \n",
       "1                     4.918567                   5.490533    1.0  \n",
       "2                    41.129400                   9.176633    1.0  \n",
       "3                     1.677633                   3.184433    1.0  \n",
       "4                     4.104600                   7.268333    1.0  \n",
       "..                         ...                        ...    ...  \n",
       "247                  19.298667                  17.000400    1.0  \n",
       "248                   4.448533                   3.957200    1.0  \n",
       "249                  90.482767                  16.674300    1.0  \n",
       "250                   2.674667                   4.149200    0.0  \n",
       "251                  44.571367                   3.409800    0.0  \n",
       "\n",
       "[252 rows x 31 columns]>"
      ]
     },
     "execution_count": 14,
     "metadata": {},
     "output_type": "execute_result"
    }
   ],
   "source": [
    "df.describe"
   ]
  },
  {
   "cell_type": "code",
   "execution_count": 15,
   "id": "34ea89f0-855a-4e71-9736-8a063291376f",
   "metadata": {},
   "outputs": [
    {
     "data": {
      "text/plain": [
       "<function matplotlib.pyplot.show(close=None, block=None)>"
      ]
     },
     "execution_count": 15,
     "metadata": {},
     "output_type": "execute_result"
    },
    {
     "data": {
      "image/png": "[encoded data removed]",
      "text/plain": [
       "<Figure size 640x480 with 1 Axes>"
      ]
     },
     "metadata": {},
     "output_type": "display_data"
    }
   ],
   "source": [
    "#checking for the balance of the dataset\n",
    "\n",
    "x = df['class'].value_counts()\n",
    "plt.pie(x.values,\n",
    "        labels = x.index,\n",
    "        autopct = '%1.1f%%')\n",
    "plt.show"
   ]
  },
  {
   "cell_type": "code",
   "execution_count": 17,
   "id": "9ed50a11-c90a-4f4b-9bc6-b181678e3058",
   "metadata": {},
   "outputs": [
    {
     "data": {
      "text/plain": [
       "((201, 30), (51, 30))"
      ]
     },
     "execution_count": 17,
     "metadata": {},
     "output_type": "execute_result"
    }
   ],
   "source": [
    "features = df.drop('class', axis=1)\n",
    "target = df['class']\n",
    "\n",
    "X_train, X_val,\\\n",
    "    Y_train, Y_val = train_test_split(features, target,\n",
    "                                      test_size = 0.2,\n",
    "                                      random_state=10)\n",
    "X_train.shape, X_val.shape"
   ]
  },
  {
   "cell_type": "code",
   "execution_count": 18,
   "id": "fbb28ca5-0fd7-439e-8f29-ded8eeacbfa7",
   "metadata": {},
   "outputs": [
    {
     "data": {
      "text/plain": [
       "((302, 30), (302,))"
      ]
     },
     "execution_count": 18,
     "metadata": {},
     "output_type": "execute_result"
    }
   ],
   "source": [
    "#balancing the data as its is highly imbalanced by adding repetitive rows of minority class\n",
    "ros = RandomOverSampler(sampling_strategy='minority',\n",
    "                        random_state=0)\n",
    "X,Y = ros.fit_resample(X_train, Y_train)\n",
    "X.shape, Y.shape"
   ]
  },
  {
   "cell_type": "code",
   "execution_count": 25,
   "id": "93a9cbf8-7f4a-4332-9422-790dc492f87b",
   "metadata": {},
   "outputs": [
    {
     "name": "stdout",
     "output_type": "stream",
     "text": [
      "LogisticRegression() : \n",
      "Training Accuracy:  0.828954870400421\n",
      "Validation Accuracy:  0.8088803088803088\n",
      "\n",
      "XGBClassifier(base_score=None, booster=None, callbacks=None,\n",
      "              colsample_bylevel=None, colsample_bynode=None,\n",
      "              colsample_bytree=None, device=None, early_stopping_rounds=None,\n",
      "              enable_categorical=False, eval_metric=None, feature_types=None,\n",
      "              gamma=None, grow_policy=None, importance_type=None,\n",
      "              interaction_constraints=None, learning_rate=None, max_bin=None,\n",
      "              max_cat_threshold=None, max_cat_to_onehot=None,\n",
      "              max_delta_step=None, max_depth=None, max_leaves=None,\n",
      "              min_child_weight=None, missing=nan, monotone_constraints=None,\n",
      "              multi_strategy=None, n_estimators=None, n_jobs=None,\n",
      "              num_parallel_tree=None, random_state=None, ...) : \n",
      "Training Accuracy:  1.0\n",
      "Validation Accuracy:  0.7992277992277993\n",
      "\n",
      "SVC(probability=True) : \n",
      "Training Accuracy:  0.7104074382702513\n",
      "Validation Accuracy:  0.7586872586872587\n",
      "\n"
     ]
    }
   ],
   "source": [
    "from sklearn.metrics import roc_auc_score as ras\n",
    "from xgboost import XGBClassifier\n",
    "models = [LogisticRegression(), XGBClassifier(), SVC(kernel='rbf', probability=True)]\n",
    "\n",
    "for i in range(len(models)):\n",
    "    models[i].fit(X,Y)\n",
    "\n",
    "    print(f'{models[i]} : ')\n",
    "\n",
    "    train_preds = models[i].predict_proba(X)[:, 1]\n",
    "    print('Training Accuracy: ', ras(Y,train_preds))\n",
    "\n",
    "    val_preds = models[i].predict_proba(X_val)[:, 1]\n",
    "    print('Validation Accuracy: ', ras(Y_val, val_preds))\n",
    "    print()"
   ]
  },
  {
   "cell_type": "code",
   "execution_count": 28,
   "id": "385c6f34-7f41-4b0d-8db1-392e67079127",
   "metadata": {},
   "outputs": [
    {
     "data": {
      "image/png": "[encoded data removed]",
      "text/plain": [
       "<Figure size 640x480 with 2 Axes>"
      ]
     },
     "metadata": {},
     "output_type": "display_data"
    }
   ],
   "source": [
    "#confusion marix\n",
    "from sklearn.metrics import ConfusionMatrixDisplay\n",
    "ConfusionMatrixDisplay.from_estimator(models[0],X_val, Y_val)\n",
    "plt.show()"
   ]
  },
  {
   "cell_type": "code",
   "execution_count": 29,
   "id": "dc75ec3d-a8c0-498a-8af3-ce23c856f600",
   "metadata": {},
   "outputs": [
    {
     "name": "stdout",
     "output_type": "stream",
     "text": [
      "              precision    recall  f1-score   support\n",
      "\n",
      "         0.0       0.83      0.71      0.77        14\n",
      "         1.0       0.90      0.95      0.92        37\n",
      "\n",
      "    accuracy                           0.88        51\n",
      "   macro avg       0.87      0.83      0.85        51\n",
      "weighted avg       0.88      0.88      0.88        51\n",
      "\n"
     ]
    }
   ],
   "source": [
    "print(metrics.classification_report\n",
    "      (Y_val, models[0].predict(X_val)))"
   ]
  },
  {
   "cell_type": "code",
   "execution_count": null,
   "id": "c53a25fc-d4a2-4b36-8726-00203d094de7",
   "metadata": {},
   "outputs": [],
   "source": []
  }
 ],
 "metadata": {
  "kernelspec": {
   "display_name": "Python 3 (ipykernel)",
   "language": "python",
   "name": "python3"
  },
  "language_info": {
   "codemirror_mode": {
    "name": "ipython",
    "version": 3
   },
   "file_extension": ".py",
   "mimetype": "text/x-python",
   "name": "python",
   "nbconvert_exporter": "python",
   "pygments_lexer": "ipython3",
   "version": "3.12.4"
  }
 },
 "nbformat": 4,
 "nbformat_minor": 5
}
